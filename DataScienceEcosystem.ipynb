{
 "cells": [
  {
   "cell_type": "markdown",
   "id": "881944b7-f14a-40c8-be3c-f1479c4dea0f",
   "metadata": {
    "tags": []
   },
   "source": [
    "# Data Science Tools and Ecosystem"
   ]
  },
  {
   "cell_type": "markdown",
   "id": "81e39df9-ec0a-4523-82a3-7f0eb011a094",
   "metadata": {},
   "source": [
    "## In this notebook, Data Science Tools and Ecosystem are summarized."
   ]
  },
  {
   "cell_type": "markdown",
   "id": "ac28924d-693f-4f5b-9201-60af263d7d69",
   "metadata": {},
   "source": [
    "### Some of the popular languages that Data Scientists use are:\n",
    "\n",
    "1. PYTHON\n",
    "2. R\n",
    "3. SQL\n"
   ]
  },
  {
   "cell_type": "markdown",
   "id": "d3ee192b-8ddf-44a6-846e-81d527d15124",
   "metadata": {},
   "source": [
    "### Data Science Libraries Include:\n",
    "\n",
    "1. Pandas\n",
    "2. NumPy\n",
    "3. Scikit-learn\n",
    "4. TensorFlow\n",
    "5. PyTorch\n",
    "6. Matplotlib\n",
    "7. Seaborn\n",
    "8. Plotly\n",
    "9. Statsmodels"
   ]
  },
  {
   "cell_type": "markdown",
   "id": "e88d1890-b684-4b28-88e1-87f64e45e1c0",
   "metadata": {},
   "source": [
    "| Open Source Data Science Tools |\n",
    "| ------ |\n",
    "| Jupyter Notebook  |\n",
    "| RStudio  |\n",
    "| VS Code |\n"
   ]
  },
  {
   "cell_type": "markdown",
   "id": "4562eb45-fba6-49ed-9013-3f161c4e74ed",
   "metadata": {},
   "source": [
    "### Below are a few examples of evaluating arithmetic expressions in Python:\n",
    "\n",
    "#####  x = 5 + 5\n",
    "#####    print (x)\n",
    "#####    output: 10\n",
    "###\n",
    "##### y = 12 * 3\n",
    "##### print (y)\n",
    "##### output: 36 \n",
    "###\n",
    "##### print(x+y)\n",
    "##### output 46"
   ]
  },
  {
   "cell_type": "code",
   "execution_count": 5,
   "id": "3ec4c940-50a9-4742-a94f-715e663ed402",
   "metadata": {
    "tags": []
   },
   "outputs": [
    {
     "name": "stdout",
     "output_type": "stream",
     "text": [
      "17\n"
     ]
    }
   ],
   "source": [
    "# Python Arithmetic Expression Examples:\n",
    "\n",
    "x = (3*4)+5\n",
    "print (x)"
   ]
  },
  {
   "cell_type": "code",
   "execution_count": 43,
   "id": "967ef670-e78e-4513-8cf1-690cc65cbfee",
   "metadata": {
    "tags": []
   },
   "outputs": [
    {
     "name": "stdout",
     "output_type": "stream",
     "text": [
      "Jonny had 60 minutes to play on Friday\n",
      "The next day Jonny had 3 hour and 20 minutes to play\n"
     ]
    }
   ],
   "source": [
    "\n",
    "# This will convert 200 minutes to hours by dividing by 60:\n",
    "\n",
    "minutes = 1\n",
    "\n",
    "print('Jonny had', minutes*60 ,'minutes to play on Friday')\n",
    "\n",
    "minutes = minutes * 200\n",
    "\n",
    "hours = minutes // 60\n",
    "\n",
    "remaining_min = minutes % 60\n",
    "\n",
    "print('The next day Jonny had', hours , 'hour and', remaining_min, 'minutes to play')\n"
   ]
  },
  {
   "cell_type": "markdown",
   "id": "a55c7a9d-83a1-4f36-af24-f1d0389006c6",
   "metadata": {},
   "source": [
    "\n",
    "<span style=\"font-size: 30px; font-weight: bold;\">Objectives</span>\n",
    "\n",
    "    \n",
    "* List data science languages\n",
    "\n",
    "* List data science libraries.\n",
    "\n",
    "* Table of Data Science tools\n",
    "\n",
    "* Arithmetic expression examples\n"
   ]
  },
  {
   "cell_type": "markdown",
   "id": "09f682e7-7d14-4e73-99a0-7208f8883639",
   "metadata": {},
   "source": [
    "## Aurthor\n",
    "<span style=\"font-size: 20px; font-weight: bold;\">Juan Freyre</span>"
   ]
  }
 ],
 "metadata": {
  "kernelspec": {
   "display_name": "Python",
   "language": "python",
   "name": "conda-env-python-py"
  },
  "language_info": {
   "codemirror_mode": {
    "name": "ipython",
    "version": 3
   },
   "file_extension": ".py",
   "mimetype": "text/x-python",
   "name": "python",
   "nbconvert_exporter": "python",
   "pygments_lexer": "ipython3",
   "version": "3.7.12"
  }
 },
 "nbformat": 4,
 "nbformat_minor": 5
}
